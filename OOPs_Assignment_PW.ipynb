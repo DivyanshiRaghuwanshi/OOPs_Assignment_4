{
  "nbformat": 4,
  "nbformat_minor": 0,
  "metadata": {
    "colab": {
      "provenance": []
    },
    "kernelspec": {
      "name": "python3",
      "display_name": "Python 3"
    },
    "language_info": {
      "name": "python"
    }
  },
  "cells": [
    {
      "cell_type": "markdown",
      "source": [
        "1. What is Object-Oriented Programming (OOP)?\n",
        "    -> Object-Oriented Programming (OOP) is a programming paradigm based on the concept of \"objects\", which contain data (attributes) and code (methods). It focuses on organizing software around objects rather than actions. Key principles include encapsulation, inheritance, polymorphism, and abstraction. OOP makes code more reusable, scalable, and easier to maintain.\n",
        "\n",
        "2.  What is a class in OOP?\n",
        "    -> A class in OOP is a blueprint or template for creating objects. It defines the attributes (variables) and behaviors (methods) that the objects created from the class will have. Classes help organize code and enable reuse through object creation.\n",
        "\n",
        "3.  What is an object in OOP?\n",
        "    -> An object in OOP is an instance of a class. It represents a real-world entity with specific values for the attributes and the ability to perform actions defined by the class methods. Objects are the building blocks of OOP-based programs.\n",
        "\n",
        "4.  What is the difference between abstraction and encapsulation?\n",
        "    -> Abstraction: hides complex implementation details and shows only the essential features to the user, focusing on *what* an object does.\n",
        "    Encapsulation: binds data and methods into a single unit (class) and restricts direct access to some components, focusing on *how* the object’s internal data is protected.\n",
        "\n",
        "5. What are dunder methods in Python?\n",
        "    -> Dunder methods (short for “double underscore” methods) in Python are special methods with names surrounded by double underscores, like `__init__`, `__str__`, or `__len__`. They allow custom behavior for built-in operations, such as object creation, printing, or arithmetic. These methods enable operator overloading and object customization.\n",
        "    \n",
        "6. Explain the concept of inheritance in OOP.\n",
        "    -> Inheritance in OOP allows a class (called the child or subclass) to acquire properties and methods from another class (called the parent or superclass). It promotes code reuse and establishes a natural hierarchy. The child class can also override or extend the behavior of the parent class.\n",
        "\n",
        "7. What is polymorphism in OOP?\n",
        "    -> Polymorphism in OOP means the ability of different objects to respond to the same method name in different ways. It allows functions or methods to operate on objects of different classes. This enhances flexibility and reusability in code through method overriding or operator overloading.\n",
        "    \n",
        "8. How is encapsulation achieved in Python?\n",
        "    -> Encapsulation in Python is achieved by defining class attributes and methods, and restricting access using access modifiers. Private members are indicated with a single underscore `_` (protected) or double underscore `__` (private). Access to data is controlled using getter and setter methods.\n",
        "    \n",
        "9. What is a constructor in Python?\n",
        "    -> A constructor in Python is a special method called `__init__()` that gets automatically invoked when an object is created from a class. It is used to initialize the object's attributes with default or given values. Each class can have only one constructor.\n",
        "    \n",
        "10. What are class and static methods in Python?\n",
        "    -> Class methods are methods marked with @classmethod that take the class (cls) as the first parameter and can access or modify class-level data.\n",
        "    Static methods use @staticmethod and don’t take self or cls; they behave like regular functions inside a class, not accessing instance or class data.   \n",
        "\n",
        "11. What is method overloading in Python?\n",
        "    -> Method overloading is the ability to define multiple methods with the same name but different parameters in a class.\n",
        "    Python doesn’t support it directly, but similar behavior can be achieved using default arguments or variable-length arguments to handle different cases within one method.\n",
        "\n",
        "12. What is method overriding in OOP?\n",
        "    -> Method overriding in OOP occurs when a subclass provides its own implementation of a method that is already defined in its parent class. This allows the subclass to customize or extend the behavior of that method while keeping the same method name.\n",
        "\n",
        "13. What is a property decorator in Python?\n",
        "    -> A property decorator (@property) in Python is used to define a method that behaves like an attribute. It allows controlled access to private variables by creating getter, setter, and deleter methods while keeping attribute-style syntax.\n",
        "\n",
        "14. Why is polymorphism important in OOP?\n",
        "    -> Polymorphism is important in OOP because it allows objects of different classes to be treated uniformly through a common interface. This flexibility simplifies code, promotes reusability, and enables easier maintenance by supporting method overriding and dynamic behavior.\n",
        "\n",
        "15. What is an abstract class in Python?\n",
        "    -> An abstract class in Python is a class that cannot be instantiated directly and is designed to be a blueprint for other classes. It can contain one or more abstract methods (declared with @abstractmethod) that must be implemented by its subclasses.\n",
        "\n",
        "16. What are the advantages of OOP?\n",
        "    -> Advantages of OOP include:\n",
        "    Modularity: Code is organized into classes, making it easier to manage.\n",
        "    Reusability: Inheritance allows reuse of existing code.\n",
        "    Scalability: Easier to extend and maintain large programs.\n",
        "    Encapsulation: Protects data by restricting access.\n",
        "    Polymorphism: Enables flexible and dynamic method behavior.\n",
        "    Improved productivity: Clear structure speeds up development and debugging.   \n",
        "\n",
        "17. What is the difference between a class variable and an instance variable?\n",
        "    -> Class variable is shared by all instances of a class; it belongs to the class itself.\n",
        "    Instance variable is unique to each object, storing data specific to that instance.\n",
        "    Class variables are defined outside methods, while instance variables are usually defined inside __init__.\n",
        "\n",
        "18. What is multiple inheritance in Python?\n",
        "    -> Multiple inheritance in Python allows a class to inherit attributes and methods from more than one parent class. This lets a subclass combine behaviors from multiple classes, but it requires careful handling to avoid conflicts like the “diamond problem.”\n",
        "\n",
        "19.  Explain the purpose of ‘’__str__’ and ‘__repr__’ ‘ methods in Python.\n",
        "    -> __str__ defines the informal, readable string representation of an object, used by print() and str().\n",
        "    __repr__ defines the official, unambiguous string representation meant for developers, used by repr() and the interactive interpreter.\n",
        "    If __str__ is not defined, Python falls back to __repr__.\n",
        "\n",
        "20. What is the significance of the ‘super()’ function in Python?\n",
        "    -> The super() function in Python is used to call a method from a parent class, especially in inheritance. It helps access and extend the behavior of the superclass without explicitly naming it, supporting cleaner and more maintainable code in complex class hierarchies.\n",
        "\n",
        "21. What is the significance of the __del__ method in Python?\n",
        "    -> The `__del__` method in Python is a destructor that is called when an object is about to be destroyed or garbage collected. It’s used to clean up resources like closing files or releasing memory before the object is removed.\n",
        "\n",
        "22. What is the difference between @staticmethod and @classmethod in Python?\n",
        "    -> @staticmethod defines a method that doesn’t access the instance (self) or class (cls); it behaves like a regular function inside a class.\n",
        "    @classmethod defines a method that takes the class (cls) as the first argument and can access or modify class state.\n",
        "    Use staticmethod for utility functions, and classmethod for factory methods or methods affecting the class itself.\n",
        "\n",
        "23. How does polymorphism work in Python with inheritance?\n",
        "    -> In Python, polymorphism with inheritance works by allowing a subclass to override methods of its parent class. When you call a method on an object, Python dynamically decides which version (parent’s or child’s) to execute based on the object’s actual type, enabling flexible and interchangeable behavior.\n",
        "\n",
        "24. What is method chaining in Python OOP?\n",
        "    -> Method chaining in Python OOP is a technique where multiple methods are called sequentially on the same object in a single line. Each method returns the object itself (self), allowing calls to be linked together for cleaner and more concise code.\n",
        "\n",
        "25. What is the purpose of the __call__ method in Python?\n",
        "    -> The `__call__` method in Python allows an instance of a class to be called like a function. When you use parentheses on an object, `obj()`, Python internally invokes the object’s `__call__` method, enabling callable objects with customized behavior.\n",
        "                                    "
      ],
      "metadata": {
        "id": "bs3ha1LNKSCO"
      }
    },
    {
      "cell_type": "code",
      "source": [
        "#  1. Create a parent class Animal with a method speak() that prints a generic message. Create a child class Dog that overrides the speak() method to print \"Bark!\".\n",
        "\n",
        "class Animal:\n",
        "  def speak(self):\n",
        "    print(\"Animal sound\")\n",
        "\n",
        "class Dog(Animal):\n",
        "  def speak(self):\n",
        "    print(\"Bark!\")\n",
        "\n",
        "\n",
        "an1 = Dog()\n",
        "an1.speak()"
      ],
      "metadata": {
        "id": "69Y36traPNDA",
        "colab": {
          "base_uri": "https://localhost:8080/"
        },
        "outputId": "a09f3b74-b607-4f59-9e48-9d7ffe50bd26"
      },
      "execution_count": 2,
      "outputs": [
        {
          "output_type": "stream",
          "name": "stdout",
          "text": [
            "Bark!\n"
          ]
        }
      ]
    },
    {
      "cell_type": "code",
      "source": [
        "# 2. Write a program to create an abstract class Shape with a method area(). Derive classes Circle and Rectangle from it and implement the area() method in both.\n",
        "\n",
        "class Shape:\n",
        "  def area(self):\n",
        "    print(\"Area of shape\")\n",
        "\n",
        "class Circle(Shape):\n",
        "  def area(self):\n",
        "    print(\"Area of circle\")\n",
        "\n",
        "class Rectangle(Shape):\n",
        "  def area(self):\n",
        "    print(\"Area of rectangle\")\n",
        "\n",
        "Shp1 = Rectangle()\n",
        "Shp1.area()"
      ],
      "metadata": {
        "colab": {
          "base_uri": "https://localhost:8080/"
        },
        "id": "4hEE1CdZtv59",
        "outputId": "48af2b2a-ea07-4e0e-e345-cbaef239abfb"
      },
      "execution_count": 8,
      "outputs": [
        {
          "output_type": "stream",
          "name": "stdout",
          "text": [
            "Area of rectangle\n"
          ]
        }
      ]
    },
    {
      "cell_type": "code",
      "source": [
        "# 3. Implement a multi-level inheritance scenario where a class Vehicle has an attribute type. Derive a class Car and further derive a class ElectricCar that adds a battery attribute.\n",
        "class Vehicle:\n",
        "    def __init__(self, Type):\n",
        "        self.type = Type\n",
        "\n",
        "    def vehicle(self):\n",
        "        print(\"This is Vehicle:\", self.type)\n",
        "\n",
        "class Car(Vehicle):\n",
        "    def car_vehicle(self):\n",
        "        print(\"This is Car\")\n",
        "\n",
        "class ElectricCar(Car):\n",
        "    def elec_car(self):\n",
        "        print(\"This is car type electric car:\", self.type)\n",
        "\n",
        "# Testing\n",
        "V1 = Vehicle(\"tata\")\n",
        "V1.vehicle()\n",
        "\n",
        "C1 = Car(\"honda\")\n",
        "C1.vehicle()\n",
        "C1.car_vehicle()\n",
        "\n",
        "E1 = ElectricCar(\"Tesla\")\n",
        "E1.vehicle()\n",
        "E1.car_vehicle()\n",
        "E1.elec_car()\n",
        ""
      ],
      "metadata": {
        "colab": {
          "base_uri": "https://localhost:8080/"
        },
        "id": "xMh8IPijvNz1",
        "outputId": "a6822e17-efbb-4e40-fcee-725809e9401b"
      },
      "execution_count": 17,
      "outputs": [
        {
          "output_type": "stream",
          "name": "stdout",
          "text": [
            "This is Vehicle: tata\n",
            "This is Vehicle: honda\n",
            "This is Car\n",
            "This is Vehicle: Tesla\n",
            "This is Car\n",
            "This is car type electric car: Tesla\n"
          ]
        }
      ]
    },
    {
      "cell_type": "code",
      "source": [
        "# 4. Demonstrate polymorphism by creating a base class Bird with a method fly(). Create two derived classes Sparrow and Penguin that override the fly() method.\n",
        "\n",
        "class Bird:\n",
        "    def fly(self):\n",
        "        print(\"Bird is flying\")\n",
        "\n",
        "class Sparrow(Bird):\n",
        "    def fly(self):\n",
        "        print(\"Sparrow is flying\")\n",
        "\n",
        "class Penguin(Bird):\n",
        "    def fly(self):\n",
        "        print(\"Penguin is not flying\")\n",
        "\n",
        "B1 = Bird()\n",
        "B1.fly()\n",
        "\n",
        "S1 = Sparrow()\n",
        "S1.fly()\n",
        "\n",
        "P1 = Penguin()\n",
        "P1.fly()"
      ],
      "metadata": {
        "colab": {
          "base_uri": "https://localhost:8080/"
        },
        "id": "s5OPolSIxCGR",
        "outputId": "25620974-1f64-4d62-aeb0-738995b0bda0"
      },
      "execution_count": 18,
      "outputs": [
        {
          "output_type": "stream",
          "name": "stdout",
          "text": [
            "Bird is flying\n",
            "Sparrow is flying\n",
            "Penguin is not flying\n"
          ]
        }
      ]
    },
    {
      "cell_type": "code",
      "source": [
        "# 5. Write a program to demonstrate encapsulation by creating a class BankAccount with private attributes balance and methods to deposit, withdraw, and check balance\n",
        "\n",
        "class BankAccount:\n",
        "    def __init__(self, initial_balance=0):\n",
        "        self.__balance = initial_balance  # Private attribute\n",
        "\n",
        "    def deposit(self, amount):\n",
        "        if amount > 0:\n",
        "            self.__balance += amount\n",
        "            print(f\"Deposited: {amount}\")\n",
        "        else:\n",
        "            print(\"Invalid deposit amount.\")\n",
        "\n",
        "    def withdraw(self, amount):\n",
        "        if 0 < amount <= self.__balance:\n",
        "            self.__balance -= amount\n",
        "            print(f\"Withdrawn: {amount}\")\n",
        "        else:\n",
        "            print(\"Insufficient funds.\")\n",
        "\n",
        "    def check_balance(self):\n",
        "        print(f\"Current Balance: {self.__balance}\")\n",
        "\n",
        "# Example usage\n",
        "account = BankAccount(1000)\n",
        "account.check_balance()\n",
        "account.deposit(500)\n",
        "account.check_balance()\n",
        "account.withdraw(200)\n",
        "account.check_balance()\n"
      ],
      "metadata": {
        "colab": {
          "base_uri": "https://localhost:8080/"
        },
        "id": "bz0aBRmYzl9H",
        "outputId": "3a5fbe13-e624-4b92-9077-7e3d95f8e058"
      },
      "execution_count": 21,
      "outputs": [
        {
          "output_type": "stream",
          "name": "stdout",
          "text": [
            "Current Balance: 1000\n",
            "Deposited: 500\n",
            "Current Balance: 1500\n",
            "Withdrawn: 200\n",
            "Current Balance: 1300\n"
          ]
        }
      ]
    },
    {
      "cell_type": "code",
      "source": [
        "#  6. Demonstrate runtime polymorphism using a method play() in a base class Instrument. Derive classes Guitar and Piano that implement their own version of play().\n",
        "\n",
        "class Instrument:\n",
        "    def play(self):\n",
        "        print(\"Playing an instrument.\")\n",
        "\n",
        "class Guitar(Instrument):\n",
        "    def play(self):\n",
        "        print(\"Playing the guitar.\")\n",
        "\n",
        "class Piano(Instrument):\n",
        "    def play(self):\n",
        "        print(\"Playing the piano.\")\n",
        "\n",
        "def start_playing(instrument):\n",
        "    instrument.play()\n",
        "\n",
        "guitar = Guitar()\n",
        "piano = Piano()\n",
        "\n",
        "start_playing(guitar)\n",
        "start_playing(piano)\n"
      ],
      "metadata": {
        "colab": {
          "base_uri": "https://localhost:8080/"
        },
        "id": "R0jKID8g3zwa",
        "outputId": "897c93b8-d469-41b0-a414-a73afd9ce080"
      },
      "execution_count": 23,
      "outputs": [
        {
          "output_type": "stream",
          "name": "stdout",
          "text": [
            "Playing the guitar.\n",
            "Playing the piano.\n"
          ]
        }
      ]
    },
    {
      "cell_type": "code",
      "source": [
        "#  7. Create a class MathOperations with a class method add_numbers() to add two numbers and a static method subtract_numbers() to subtract two numbers.\n",
        "\n",
        "class MathOperations:\n",
        "    @classmethod\n",
        "    def add_numbers(cls, a, b):\n",
        "        return a + b\n",
        "\n",
        "    @staticmethod\n",
        "    def subtract_numbers(a, b):\n",
        "        return a - b\n",
        "\n",
        "sum_result = MathOperations.add_numbers(20, 5)\n",
        "print(\"Sum:\", sum_result)\n",
        "\n",
        "difference = MathOperations.subtract_numbers(20, 5)\n",
        "print(\"Difference:\", difference)\n"
      ],
      "metadata": {
        "colab": {
          "base_uri": "https://localhost:8080/"
        },
        "id": "xU0Iven76hrd",
        "outputId": "25e91a95-f4be-486b-d653-b9be8c91e695"
      },
      "execution_count": 25,
      "outputs": [
        {
          "output_type": "stream",
          "name": "stdout",
          "text": [
            "Sum: 25\n",
            "Difference: 15\n"
          ]
        }
      ]
    },
    {
      "cell_type": "code",
      "source": [
        "#  8. Implement a class Person with a class method to count the total number of persons created.\n",
        "\n",
        "class Person:\n",
        "    person_count = 0  # Renamed class variable\n",
        "\n",
        "    def __init__(self, name):\n",
        "        self.name = name\n",
        "        Person.person_count += 1\n",
        "\n",
        "    @classmethod\n",
        "    def total_persons(cls):\n",
        "        return cls.person_count\n",
        "\n",
        "# Creating objects\n",
        "p1 = Person(\"Ajay\")\n",
        "p2 = Person(\"Cooper\")\n",
        "p3 = Person(\"Charlie\")\n",
        "\n",
        "# Output total persons created\n",
        "print(\"Total Persons Created:\", Person.total_persons())"
      ],
      "metadata": {
        "colab": {
          "base_uri": "https://localhost:8080/"
        },
        "id": "FcXwtXur8eM9",
        "outputId": "963e11d3-6b44-44a1-cfe4-945e39e834c2"
      },
      "execution_count": 28,
      "outputs": [
        {
          "output_type": "stream",
          "name": "stdout",
          "text": [
            "Total Persons Created: 3\n"
          ]
        }
      ]
    },
    {
      "cell_type": "code",
      "source": [
        "#  9. Write a class Fraction with attributes numerator and denominator. Override the str method to display the fraction as \"numerator/denominator\"\n",
        "class Fraction:\n",
        "    def __init__(self, numerator, denominator):\n",
        "        self.numerator = numerator\n",
        "        self.denominator = denominator\n",
        "\n",
        "    def __str__(self):\n",
        "        return f\"{self.numerator}/{self.denominator}\"\n",
        "\n",
        "f1 = Fraction(3, 4)\n",
        "f2 = Fraction(7, 2)\n",
        "\n",
        "print(f1)\n",
        "print(f2)"
      ],
      "metadata": {
        "colab": {
          "base_uri": "https://localhost:8080/"
        },
        "id": "IB8xiOP1-RBF",
        "outputId": "b2077227-5c5a-4f36-82e6-f668bf74ec9c"
      },
      "execution_count": 29,
      "outputs": [
        {
          "output_type": "stream",
          "name": "stdout",
          "text": [
            "3/4\n",
            "7/2\n"
          ]
        }
      ]
    },
    {
      "cell_type": "code",
      "source": [
        "#  10. Demonstrate operator overloading by creating a class Vector and overriding the add method to add two vectors\n",
        "\n",
        "class Vector:\n",
        "    def __init__(self, x, y):\n",
        "        self.x = x\n",
        "        self.y = y\n",
        "\n",
        "    def __add__(self, other):\n",
        "        return Vector(self.x + other.x, self.y + other.y)\n",
        "\n",
        "    def __str__(self):\n",
        "        return f\"Vector({self.x}, {self.y})\"\n",
        "\n",
        "v1 = Vector(2, 3)\n",
        "v2 = Vector(4, 5)\n",
        "\n",
        "v3 = v1 + v2\n",
        "print(v3)"
      ],
      "metadata": {
        "colab": {
          "base_uri": "https://localhost:8080/"
        },
        "id": "YKVnnKUZ-q7p",
        "outputId": "03a3e5b3-c045-4f5c-b347-1d6cc7d3fdeb"
      },
      "execution_count": 30,
      "outputs": [
        {
          "output_type": "stream",
          "name": "stdout",
          "text": [
            "Vector(6, 8)\n"
          ]
        }
      ]
    },
    {
      "cell_type": "code",
      "source": [
        " # 11. Create a class Person with attributes name and age. Add a method greet() that prints \"Hello, my name is {name} and I am {age} years old.\n",
        "\n",
        " class Person:\n",
        "    def __init__(self, name, age):\n",
        "        self.name = name\n",
        "        self.age = age\n",
        "\n",
        "    def greet(self):\n",
        "        print(f\"Hello, my name is {self.name} and I am {self.age} years old.\")\n",
        "\n",
        "p1 = Person(\"Ram\", 21)\n",
        "p1.greet()\n"
      ],
      "metadata": {
        "colab": {
          "base_uri": "https://localhost:8080/"
        },
        "id": "nxjDqg4UApiu",
        "outputId": "33183256-a273-4843-b711-da59d8499f01"
      },
      "execution_count": 33,
      "outputs": [
        {
          "output_type": "stream",
          "name": "stdout",
          "text": [
            "Hello, my name is Ram and I am 21 years old.\n"
          ]
        }
      ]
    },
    {
      "cell_type": "code",
      "source": [
        "#  12. Implement a class Student with attributes name and grades. Create a method average_grade() to compute the average of the grades.\n",
        "\n",
        "class Student:\n",
        "    def __init__(self, name, grades):\n",
        "        self.name = name\n",
        "        self.grades = grades\n",
        "\n",
        "    def average_grade(self):\n",
        "        if len(self.grades) == 0:\n",
        "            return 0\n",
        "        return sum(self.grades) / len(self.grades)\n",
        "\n",
        "s1 = Student(\"Riya\", [85, 90, 78, 92])\n",
        "print(f\"{s1.name}'s average grade is: {s1.average_grade():.2f}\")"
      ],
      "metadata": {
        "colab": {
          "base_uri": "https://localhost:8080/"
        },
        "id": "DKwHQlAOBHtt",
        "outputId": "267f5b4d-4552-48e1-882a-3d65f151b5dd"
      },
      "execution_count": 34,
      "outputs": [
        {
          "output_type": "stream",
          "name": "stdout",
          "text": [
            "Riya's average grade is: 86.25\n"
          ]
        }
      ]
    },
    {
      "cell_type": "code",
      "source": [
        "#  13. Create a class Rectangle with methods set_dimensions() to set the dimensions and area() to calculate the area\n",
        "\n",
        "class Rectangle:\n",
        "    def __init__(self):\n",
        "        self.length = 0\n",
        "        self.width = 0\n",
        "\n",
        "    def set_dimensions(self, length, width):\n",
        "        self.length = length\n",
        "        self.width = width\n",
        "\n",
        "    def area(self):\n",
        "        return self.length * self.width\n",
        "\n",
        "rect1 = Rectangle()\n",
        "rect1.set_dimensions(5, 3)\n",
        "print(\"Area of rectangle:\", rect1.area())\n"
      ],
      "metadata": {
        "colab": {
          "base_uri": "https://localhost:8080/"
        },
        "id": "IJozjUzFEloN",
        "outputId": "15dbf45b-47fe-42d1-db20-413a8daba951"
      },
      "execution_count": 37,
      "outputs": [
        {
          "output_type": "stream",
          "name": "stdout",
          "text": [
            "Area of rectangle: 15\n"
          ]
        }
      ]
    },
    {
      "cell_type": "code",
      "source": [
        "#  14. Create a class Employee with a method calculate_salary() that computes the salary based on hours worked and hourly rate. Create a derived class Manager that adds a bonus to the salary.\n",
        "class Employee:\n",
        "    def __init__(self, name, hours_worked, hourly_rate):\n",
        "        self.name = name\n",
        "        self.hours_worked = hours_worked\n",
        "        self.hourly_rate = hourly_rate\n",
        "\n",
        "    def calculate_salary(self):\n",
        "        return self.hours_worked * self.hourly_rate\n",
        "\n",
        "class Manager(Employee):\n",
        "    def __init__(self, name, hours_worked, hourly_rate, bonus):\n",
        "        super().__init__(name, hours_worked, hourly_rate)\n",
        "        self.bonus = bonus\n",
        "\n",
        "    def calculate_salary(self):\n",
        "        base_salary = super().calculate_salary()\n",
        "        return base_salary + self.bonus\n",
        "\n",
        "emp = Employee(\"Simon\", 40, 20)\n",
        "print(f\"{emp.name}'s Salary: ${emp.calculate_salary()}\")\n",
        "\n",
        "mgr = Manager(\"Jake\", 40, 30, 500)\n",
        "print(f\"{mgr.name}'s Salary: ${mgr.calculate_salary()}\")"
      ],
      "metadata": {
        "colab": {
          "base_uri": "https://localhost:8080/"
        },
        "id": "5mv6XJezFHtr",
        "outputId": "09cec8b8-c969-4604-d717-7c971e8b8a16"
      },
      "execution_count": 39,
      "outputs": [
        {
          "output_type": "stream",
          "name": "stdout",
          "text": [
            "Simon's Salary: $800\n",
            "Jake's Salary: $1700\n"
          ]
        }
      ]
    },
    {
      "cell_type": "code",
      "source": [
        "# 15. Create a class Product with attributes name, price, and quantity. Implement a method total_price() that calculates the total price of the product.\n",
        "\n",
        "class Product:\n",
        "    def __init__(self, name, price, quantity):\n",
        "        self.name = name\n",
        "        self.price = price\n",
        "        self.quantity = quantity\n",
        "\n",
        "    def total_price(self):\n",
        "        return self.price * self.quantity\n",
        "\n",
        "p1 = Product(\"Notebook\", 50, 3)\n",
        "print(f\"Total price for {p1.name}: ₹{p1.total_price()}\")\n"
      ],
      "metadata": {
        "colab": {
          "base_uri": "https://localhost:8080/"
        },
        "id": "TFbXlZsbFoor",
        "outputId": "bdd1993b-34ec-4f37-d917-7fa08f5477a7"
      },
      "execution_count": 40,
      "outputs": [
        {
          "output_type": "stream",
          "name": "stdout",
          "text": [
            "Total price for Notebook: ₹150\n"
          ]
        }
      ]
    },
    {
      "cell_type": "code",
      "source": [
        "# 16. Create a class Animal with an abstract method sound(). Create two derived classes Cow and Sheep that implement the sound() method.\n",
        "\n",
        "from abc import ABC, abstractmethod\n",
        "\n",
        "class Animal(ABC):\n",
        "    @abstractmethod\n",
        "    def sound(self):\n",
        "        pass\n",
        "\n",
        "class Cow(Animal):\n",
        "    def sound(self):\n",
        "        return \"Moo\"\n",
        "\n",
        "class Sheep(Animal):\n",
        "    def sound(self):\n",
        "        return \"Baa\"\n",
        "\n",
        "cow = Cow()\n",
        "sheep = Sheep()\n",
        "\n",
        "print(\"Cow sound:\", cow.sound())\n",
        "print(\"Sheep sound:\", sheep.sound())"
      ],
      "metadata": {
        "colab": {
          "base_uri": "https://localhost:8080/"
        },
        "id": "Q_dEjbXvGfXp",
        "outputId": "e44e9586-a867-4038-81fa-102b2b16d007"
      },
      "execution_count": 42,
      "outputs": [
        {
          "output_type": "stream",
          "name": "stdout",
          "text": [
            "Cow sound: Moo\n",
            "Sheep sound: Baa\n"
          ]
        }
      ]
    },
    {
      "cell_type": "code",
      "source": [
        "# 17. Create a class Book with attributes title, author, and year_published. Add a method get_book_info() that returns a formatted string with the book's details.\n",
        "\n",
        "class Book:\n",
        "    def __init__(self, title, author, year_published):\n",
        "        self.title = title\n",
        "        self.author = author\n",
        "        self.year_published = year_published\n",
        "\n",
        "    def get_book_info(self):\n",
        "        return f\"'{self.title}' by {self.author}, published in {self.year_published}\"\n",
        "\n",
        "book1 = Book(\"To Kill a Mockingbird\", \"Harper Lee\", 1960)\n",
        "print(book1.get_book_info())"
      ],
      "metadata": {
        "colab": {
          "base_uri": "https://localhost:8080/"
        },
        "id": "E6V7QHQrGxcV",
        "outputId": "db7eb52a-8c16-49ac-fde2-cf7d8319f047"
      },
      "execution_count": 43,
      "outputs": [
        {
          "output_type": "stream",
          "name": "stdout",
          "text": [
            "'To Kill a Mockingbird' by Harper Lee, published in 1960\n"
          ]
        }
      ]
    },
    {
      "cell_type": "code",
      "source": [
        "#  18. Create a class House with attributes address and price. Create a derived class Mansion that adds an attribute number_of_rooms\n",
        "\n",
        "class House:\n",
        "    def __init__(self, address, price):\n",
        "        self.address = address\n",
        "        self.price = price\n",
        "\n",
        "    def get_info(self):\n",
        "        return f\"Address: {self.address}, Price of the house: ₹{self.price}\"\n",
        "\n",
        "class Mansion(House):\n",
        "    def __init__(self, address, price, number_of_rooms):\n",
        "        super().__init__(address, price)\n",
        "        self.number_of_rooms = number_of_rooms\n",
        "\n",
        "    def get_info(self):\n",
        "        base_info = super().get_info()\n",
        "        return f\"{base_info}, Rooms in the house: {self.number_of_rooms}\"\n",
        "\n",
        "m1 = Mansion(\"123 Elite Street\", 50000000, 10)\n",
        "print(m1.get_info())\n"
      ],
      "metadata": {
        "colab": {
          "base_uri": "https://localhost:8080/"
        },
        "id": "J9yFF5PVHHnR",
        "outputId": "9107e3f8-d6c6-4b16-d5c2-ef037d4b0866"
      },
      "execution_count": 46,
      "outputs": [
        {
          "output_type": "stream",
          "name": "stdout",
          "text": [
            "Address: 123 Elite Street, Price of the house: ₹50000000, Rooms in the house: 10\n"
          ]
        }
      ]
    },
    {
      "cell_type": "code",
      "source": [],
      "metadata": {
        "id": "YCPmjtJhHeGs"
      },
      "execution_count": null,
      "outputs": []
    }
  ]
}